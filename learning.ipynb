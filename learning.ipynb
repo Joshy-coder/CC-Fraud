{
  "nbformat": 4,
  "nbformat_minor": 0,
  "metadata": {
    "colab": {
      "provenance": [],
      "authorship_tag": "ABX9TyOhfmP7nNDj83tJxSOukAW6",
      "include_colab_link": true
    },
    "kernelspec": {
      "name": "python3",
      "display_name": "Python 3"
    },
    "language_info": {
      "name": "python"
    }
  },
  "cells": [
    {
      "cell_type": "markdown",
      "metadata": {
        "id": "view-in-github",
        "colab_type": "text"
      },
      "source": [
        "<a href=\"https://colab.research.google.com/github/Joshy-coder/CC-Fraud/blob/main/learning.ipynb\" target=\"_parent\"><img src=\"https://colab.research.google.com/assets/colab-badge.svg\" alt=\"Open In Colab\"/></a>"
      ]
    },
    {
      "cell_type": "code",
      "execution_count": null,
      "metadata": {
        "colab": {
          "base_uri": "https://localhost:8080/"
        },
        "id": "0_oBJf7hW1BB",
        "outputId": "a61fde87-a2a3-4ba2-d92c-4eb70abaa323"
      },
      "outputs": [
        {
          "name": "stdout",
          "output_type": "stream",
          "text": [
            "What is your name? Josh\n",
            "What is your favorite color? Blue\n"
          ]
        }
      ],
      "source": [
        "name = input('What is your name? ')\n",
        "color = input('What is your favorite color? ')"
      ]
    },
    {
      "cell_type": "code",
      "source": [
        "print(name + ' likes ' + color)"
      ],
      "metadata": {
        "colab": {
          "base_uri": "https://localhost:8080/"
        },
        "id": "jiKokkEhXAg8",
        "outputId": "9b5b28b3-d273-47c8-e6a6-a6be67cb0d11"
      },
      "execution_count": null,
      "outputs": [
        {
          "output_type": "stream",
          "name": "stdout",
          "text": [
            "Josh likes Blue\n"
          ]
        }
      ]
    },
    {
      "cell_type": "code",
      "source": [
        "birth_year = input(\"Birth year: \")\n",
        "print(type(birth_year))\n",
        "age = 2019 - int(birth_year)\n",
        "print(type(age))\n",
        "print(age)"
      ],
      "metadata": {
        "colab": {
          "base_uri": "https://localhost:8080/"
        },
        "id": "kQgIcStzXJzb",
        "outputId": "14f1b56e-bbd5-4fca-d10d-4bc766c26514"
      },
      "execution_count": null,
      "outputs": [
        {
          "output_type": "stream",
          "name": "stdout",
          "text": [
            "Birth year: 20000\n",
            "<class 'str'>\n",
            "<class 'int'>\n",
            "-17981\n"
          ]
        }
      ]
    },
    {
      "cell_type": "code",
      "source": [
        "weight = input(\"Weight in pounds: \")\n",
        "print(type(weight))\n",
        "weightkg =  int(weight) * 0.45\n",
        "print(type(weightkg))\n",
        "print(weightkg)\n"
      ],
      "metadata": {
        "colab": {
          "base_uri": "https://localhost:8080/"
        },
        "id": "4QdezxbJazCw",
        "outputId": "79fdfd6d-8e6f-4cfb-89d0-0e56cbd4701c"
      },
      "execution_count": null,
      "outputs": [
        {
          "output_type": "stream",
          "name": "stdout",
          "text": [
            "Weight in pounds: 150\n",
            "<class 'str'>\n",
            "<class 'float'>\n",
            "67.5\n"
          ]
        }
      ]
    },
    {
      "cell_type": "code",
      "source": [
        "course = 'Python for Beginners'\n",
        "another = course[:]\n",
        "print(another)"
      ],
      "metadata": {
        "id": "id6Rop4udW5J",
        "colab": {
          "base_uri": "https://localhost:8080/"
        },
        "outputId": "2a560e96-f393-42ca-dd93-38830a1633ec"
      },
      "execution_count": null,
      "outputs": [
        {
          "output_type": "stream",
          "name": "stdout",
          "text": [
            "Python for Beginners\n"
          ]
        }
      ]
    },
    {
      "cell_type": "code",
      "source": [
        "course = 'Python for Beginners'\n",
        "print(len(course))\n",
        "print(course.upper())\n",
        "print(course.lower())\n",
        "print(course.find(\"P\"))\n",
        "print(course.replace('on', 'we'))\n",
        "print('Python' in course)"
      ],
      "metadata": {
        "colab": {
          "base_uri": "https://localhost:8080/"
        },
        "id": "FqBoVkEWK6ij",
        "outputId": "97e44ac2-0e92-43e0-e075-19bf96692628"
      },
      "execution_count": null,
      "outputs": [
        {
          "output_type": "stream",
          "name": "stdout",
          "text": [
            "20\n",
            "PYTHON FOR BEGINNERS\n",
            "python for beginners\n",
            "0\n",
            "Pythwe for Beginners\n",
            "True\n"
          ]
        }
      ]
    },
    {
      "cell_type": "code",
      "source": [
        "is_hot = False\n",
        "is_cold = False\n",
        "\n",
        "if is_hot:\n",
        "  print(\"Its a hot day\")\n",
        "  print(\"Enjoy your day\")\n",
        "elif is_cold:\n",
        "  print(\"Its a cold day\")\n",
        "  print(\"Wear some clothes\")\n",
        "else:\n",
        "  print(\"Its a lovely day\")\n",
        "print(\"Drink some water\")"
      ],
      "metadata": {
        "colab": {
          "base_uri": "https://localhost:8080/"
        },
        "id": "1gOU1__eR_eo",
        "outputId": "f8090f7d-6006-4545-b268-59d9a8b5122c"
      },
      "execution_count": null,
      "outputs": [
        {
          "output_type": "stream",
          "name": "stdout",
          "text": [
            "Its a lovely day\n",
            "Drink some water\n"
          ]
        }
      ]
    },
    {
      "cell_type": "code",
      "source": [
        "house = 1000000\n",
        "good_credit = True\n",
        "\n",
        "if good_credit:\n",
        "  down_payment = house*0.1\n",
        "else:\n",
        "  down_payment = house*0.2\n",
        "print(f\"Down payment: ${down_payment}\")"
      ],
      "metadata": {
        "colab": {
          "base_uri": "https://localhost:8080/"
        },
        "id": "2v5y2C6ixJk9",
        "outputId": "821067bf-045b-4383-aef4-0345ab9c2f37"
      },
      "execution_count": null,
      "outputs": [
        {
          "output_type": "stream",
          "name": "stdout",
          "text": [
            "Down payment: $100000.0\n"
          ]
        }
      ]
    },
    {
      "cell_type": "code",
      "source": [
        "has_criminal_record = True\n",
        "has_good_credit=True\n",
        "if has_high_income and not has_criminal_record:\n",
        "  print(\"Eligible for loan\")"
      ],
      "metadata": {
        "id": "SDjiH88Eyw2s"
      },
      "execution_count": null,
      "outputs": []
    },
    {
      "cell_type": "code",
      "source": [
        "temperature = 30\n",
        "if temperature >= 30:\n",
        "  print(\"Its a hot day\")\n",
        "else:\n",
        "  print(\"its not a hot day\")"
      ],
      "metadata": {
        "colab": {
          "base_uri": "https://localhost:8080/"
        },
        "id": "aYaVsz3V1cOn",
        "outputId": "56310ec7-2499-46cd-e8dc-e30d313e3712"
      },
      "execution_count": null,
      "outputs": [
        {
          "output_type": "stream",
          "name": "stdout",
          "text": [
            "Its a hot day\n"
          ]
        }
      ]
    },
    {
      "cell_type": "code",
      "source": [
        "name = \"Joshua \"\n",
        "if len(name) < 3:\n",
        "  print(\"name needs to be 3 or more\")\n",
        "elif len(name) >= 50:\n",
        "  print(\"name needs to be 50 or less\")\n",
        "else:\n",
        "  print(\"perfect name length\")"
      ],
      "metadata": {
        "colab": {
          "base_uri": "https://localhost:8080/"
        },
        "id": "GDL6bjUx20ET",
        "outputId": "eaabd534-a592-4560-fcef-f46991d9ef5d"
      },
      "execution_count": null,
      "outputs": [
        {
          "output_type": "stream",
          "name": "stdout",
          "text": [
            "perfect name length\n"
          ]
        }
      ]
    },
    {
      "cell_type": "code",
      "source": [
        "import keyword\n",
        "weight=int(input(\"Weight: \"))\n",
        "unit=input('(l)bs or (k)g: ')\n",
        "if unit.lower() == 'k':\n",
        "  converted = weight * 0.45\n",
        "  print(f\"You are {converted} kilos\")\n",
        "else:\n",
        "  unit.lower() == 'l'\n",
        "  converted = weight // 0.45\n",
        "  print(f\"You are {converted} pounds\")\n"
      ],
      "metadata": {
        "colab": {
          "base_uri": "https://localhost:8080/"
        },
        "id": "M8Anvqcw3YfE",
        "outputId": "576b923f-b643-4e64-d8cb-ac35bf9651dd"
      },
      "execution_count": null,
      "outputs": [
        {
          "output_type": "stream",
          "name": "stdout",
          "text": [
            "Weight: 45\n",
            "(l)bs or (k)g: l\n",
            "You are 99.0 pounds\n"
          ]
        }
      ]
    },
    {
      "cell_type": "code",
      "source": [
        "i = 1\n",
        "while i <= 5:\n",
        "  print('*'*i)\n",
        "  i = i + 1\n",
        "print(\"Done\")"
      ],
      "metadata": {
        "colab": {
          "base_uri": "https://localhost:8080/"
        },
        "id": "q5Qk1fc-5h37",
        "outputId": "29a56fca-131f-4e53-b0cb-70b137e11af1"
      },
      "execution_count": null,
      "outputs": [
        {
          "output_type": "stream",
          "name": "stdout",
          "text": [
            "*\n",
            "**\n",
            "***\n",
            "****\n",
            "*****\n",
            "Done\n"
          ]
        }
      ]
    },
    {
      "cell_type": "code",
      "source": [
        "secret = 9\n",
        "guess_count = 0\n",
        "guess_limit = 3\n",
        "while guess_count < guess_limit:\n",
        "  guess = int(input(\"Guess: \"))\n",
        "  guess_count +=1\n",
        "  if guess == secret:\n",
        "    print(\"You win!\")\n",
        "    break\n",
        "else:\n",
        "  print(\"Try again\")"
      ],
      "metadata": {
        "colab": {
          "base_uri": "https://localhost:8080/"
        },
        "id": "Tbe2tP6D9ltX",
        "outputId": "494603f1-f35f-4870-bb9e-c68d4aa3d15d"
      },
      "execution_count": null,
      "outputs": [
        {
          "output_type": "stream",
          "name": "stdout",
          "text": [
            "Guess: 1\n",
            "Guess: 3\n",
            "Guess: 2\n",
            "Try again\n"
          ]
        }
      ]
    },
    {
      "cell_type": "code",
      "source": [
        "command = \"\"\n",
        "started = False\n",
        "stopped = False\n",
        "while True:\n",
        "  command = input('> ').lower()\n",
        "  if command == \"start\":\n",
        "    if started:\n",
        "      print(\"Car is already on\")\n",
        "    else:\n",
        "      started = True\n",
        "      print(\"Car starts\")\n",
        "  elif command == \"stop\":\n",
        "    if stopped:\n",
        "      print(\"Car is already off\")\n",
        "    else:\n",
        "      stopped = True\n",
        "      print(\"Car stops\")\n",
        "  elif command == \"help\":\n",
        "    print(\"\"\"\n",
        "Start- to start the car\n",
        "Stop - stop the car\n",
        "Quit - to leave the game\"\"\")\n",
        "  elif command == 'quit':\n",
        "    break\n",
        "  else:\n",
        "    print(\"We dont understand that\")"
      ],
      "metadata": {
        "colab": {
          "base_uri": "https://localhost:8080/"
        },
        "id": "mXr5MGzq-3s-",
        "outputId": "187e8b7b-98c6-491b-a1b0-ee5883c23075"
      },
      "execution_count": null,
      "outputs": [
        {
          "name": "stdout",
          "output_type": "stream",
          "text": [
            "> start\n",
            "Car starts\n",
            "> start\n",
            "Car is already on\n",
            "> stop\n",
            "Car stops\n",
            "> stop\n",
            "Car is already off\n",
            "> quit\n"
          ]
        }
      ]
    },
    {
      "cell_type": "code",
      "source": [
        "for item in range(5,10,2):\n",
        "  print(item)"
      ],
      "metadata": {
        "colab": {
          "base_uri": "https://localhost:8080/"
        },
        "id": "NCRtQJHwDCit",
        "outputId": "e74267a2-3455-45a8-f8cc-beee3b4c4434"
      },
      "execution_count": null,
      "outputs": [
        {
          "output_type": "stream",
          "name": "stdout",
          "text": [
            "5\n",
            "7\n",
            "9\n"
          ]
        }
      ]
    },
    {
      "cell_type": "code",
      "source": [
        "prices = [10, 20, 30]\n",
        "\n",
        "total = 0\n",
        "for price in prices:\n",
        "  total += price\n",
        "  print(f\"Total:{total}\")"
      ],
      "metadata": {
        "colab": {
          "base_uri": "https://localhost:8080/"
        },
        "id": "c4asyLcdE_EI",
        "outputId": "4310071a-58fc-442c-8979-facb1662336e"
      },
      "execution_count": null,
      "outputs": [
        {
          "output_type": "stream",
          "name": "stdout",
          "text": [
            "Total:10\n",
            "Total:30\n",
            "Total:60\n"
          ]
        }
      ]
    },
    {
      "cell_type": "code",
      "source": [
        "for x in range(4):\n",
        "  for y in range(3):\n",
        "    print(f\"({x}, {y})\")"
      ],
      "metadata": {
        "id": "0WH4T-5eF4R5",
        "colab": {
          "base_uri": "https://localhost:8080/"
        },
        "outputId": "b1c5adfd-3aed-4852-873e-22bf17e4a53b"
      },
      "execution_count": 4,
      "outputs": [
        {
          "output_type": "stream",
          "name": "stdout",
          "text": [
            "(0, 0)\n",
            "(0, 1)\n",
            "(0, 2)\n",
            "(1, 0)\n",
            "(1, 1)\n",
            "(1, 2)\n",
            "(2, 0)\n",
            "(2, 1)\n",
            "(2, 2)\n",
            "(3, 0)\n",
            "(3, 1)\n",
            "(3, 2)\n"
          ]
        }
      ]
    },
    {
      "cell_type": "code",
      "source": [
        "numbers = [5,2,5,2,2]\n",
        "for x_count in numbers:\n",
        "  output = \"\"\n",
        "  for count in range(x_count):\n",
        "    output += \"x\"\n",
        "  print(output)"
      ],
      "metadata": {
        "colab": {
          "base_uri": "https://localhost:8080/"
        },
        "id": "H85Gn8Dj6Pu8",
        "outputId": "3d83bf85-88f9-4b68-d0e2-4390d57152c1"
      },
      "execution_count": 11,
      "outputs": [
        {
          "output_type": "stream",
          "name": "stdout",
          "text": [
            "xxxxx\n",
            "xx\n",
            "xxxxx\n",
            "xx\n",
            "xx\n"
          ]
        }
      ]
    },
    {
      "cell_type": "code",
      "source": [],
      "metadata": {
        "id": "XZijZcBU71SA"
      },
      "execution_count": null,
      "outputs": []
    }
  ]
}